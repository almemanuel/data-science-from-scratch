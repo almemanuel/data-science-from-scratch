{
  "nbformat": 4,
  "nbformat_minor": 0,
  "metadata": {
    "colab": {
      "name": "linear-algebra.ipynb",
      "provenance": [],
      "include_colab_link": true
    },
    "kernelspec": {
      "name": "python3",
      "display_name": "Python 3"
    },
    "language_info": {
      "name": "python"
    }
  },
  "cells": [
    {
      "cell_type": "markdown",
      "metadata": {
        "id": "view-in-github",
        "colab_type": "text"
      },
      "source": [
        "<a href=\"https://colab.research.google.com/github/almemanuel/data-science-from-scratch/blob/main/linear_algebra.ipynb\" target=\"_parent\"><img src=\"https://colab.research.google.com/assets/colab-badge.svg\" alt=\"Open In Colab\"/></a>"
      ]
    },
    {
      "cell_type": "code",
      "execution_count": 1,
      "metadata": {
        "id": "kSomOLrQgpaS"
      },
      "outputs": [],
      "source": [
        "import matplotlib.pyplot as plt\n",
        "import pandas as pd\n",
        "import numpy as np"
      ]
    },
    {
      "cell_type": "markdown",
      "source": [
        "# Linear Algebra"
      ],
      "metadata": {
        "id": "Cyv-F1ICg42z"
      }
    },
    {
      "cell_type": "markdown",
      "source": [
        "Linear algebra it's the study of the vectorial spaces, fudamental to the field of Data Science"
      ],
      "metadata": {
        "id": "wZd0SDsJhO02"
      }
    },
    {
      "cell_type": "markdown",
      "source": [
        "## Vectors"
      ],
      "metadata": {
        "id": "peY3j6HZhpVx"
      }
    },
    {
      "cell_type": "markdown",
      "source": [
        "Vectors are objects that can be added or multiplied for scalars to make new vectors.\n",
        "\n",
        "Vectors are a great way of representing data"
      ],
      "metadata": {
        "id": "tflrjEEKh7cy"
      }
    },
    {
      "cell_type": "code",
      "source": [
        "from typing import List\n",
        "\n",
        "Vector = List[float]\n",
        "height_weight_age = [70, 170, 40] # inc, lb, year\n",
        "grades = [96, 80, 75, 62]"
      ],
      "metadata": {
        "id": "QPxhpBROizzj"
      },
      "execution_count": 2,
      "outputs": []
    },
    {
      "cell_type": "markdown",
      "source": [
        "$V = [a, b] \\\\ W = [c, d] \\\\ V + B = [a + c, b + d]$"
      ],
      "metadata": {
        "id": "CrVig0udjWrx"
      }
    },
    {
      "cell_type": "code",
      "source": [
        "def add(v: Vector, w: Vector) -> Vector:\n",
        "  '''\n",
        "  Add the corresponding elements\n",
        "  '''\n",
        "  assert len(v) == len(w) # vector must be the same lenght\n",
        "  return[v_i + w_i for v_i, w_i in zip(v, w)]\n",
        "  assert add([1, 2, 3], [4, 5, 6]) == [5, 7, 9]"
      ],
      "metadata": {
        "id": "cS94wHavkIDh"
      },
      "execution_count": 3,
      "outputs": []
    },
    {
      "cell_type": "code",
      "source": [
        "def subtract(v: Vector, w: Vector) -> Vector:\n",
        "  '''\n",
        "  Subtract the corresponding elements\n",
        "  '''\n",
        "  assert len(v) == len(w) # vector must be the same lenght\n",
        "  return[v_i - w_i for v_i, w_i in zip(v, w)]\n",
        "  assert add([5, 7, 9], [4, 5, 6]) == [1, 2, 3]"
      ],
      "metadata": {
        "id": "_cqoILnHk0QJ"
      },
      "execution_count": 4,
      "outputs": []
    },
    {
      "cell_type": "code",
      "source": [
        "def vector_sum(vectors: List[Vector]) -> Vector:\n",
        "  '''\n",
        "  sum of all corresponding elements\n",
        "  '''\n",
        "  assert vectors, 'no vectors provided!'\n",
        "  num_elements = len(vectors[0])\n",
        "  assert all(len(v) == num_elements for v in vectors), 'different sizes!'\n",
        "  return [sum(vector[i] for vector in vectors) for i in range(num_elements)]\n",
        "  assert vector_sum([[1, 2], [3, 4], [5, 6], [7, 8]]) == [16, 20]"
      ],
      "metadata": {
        "id": "uJee7M45lFhp"
      },
      "execution_count": 5,
      "outputs": []
    },
    {
      "cell_type": "code",
      "source": [
        "def scalar_multiply(c: float, v: Vector) -> Vector:\n",
        "  '''\n",
        "  Multiply each element to c\n",
        "  '''\n",
        "  return [c * v_i for v_i in v]\n",
        "  assert scalar_multiply(2, [1, 2, 3]) == [2, 4, 6]"
      ],
      "metadata": {
        "id": "3AOHz2l8mPco"
      },
      "execution_count": 6,
      "outputs": []
    },
    {
      "cell_type": "code",
      "source": [
        "def vector_mean(vectors: List[Vector]) -> Vector:\n",
        "    '''\n",
        "    Get the elements mean\n",
        "    '''\n",
        "    n = len(vectors)\n",
        "    return scalar_multiply(1 / n, vector_sum(vectors))\n",
        "    assert vector_mean([[1, 2], [3, 4], [5, 6]]) == [3, 4]"
      ],
      "metadata": {
        "id": "yiIWo9BFLvte"
      },
      "execution_count": 7,
      "outputs": []
    },
    {
      "cell_type": "code",
      "source": [
        "def dot(v:Vector, w:Vector) -> float:\n",
        "    '''\n",
        "    Calc v_1 * w_1 + ... + v_n * w_n\n",
        "    '''\n",
        "    assert len(v) == len(w), 'vector must be same length'\n",
        "    return sum(v_i * w_i for v_i, w_i in zip(v, w))\n",
        "    assert dot([1, 2, 3], [4, 5, 6]) == 32"
      ],
      "metadata": {
        "id": "0iKqqN2UMSpq"
      },
      "execution_count": 8,
      "outputs": []
    },
    {
      "cell_type": "code",
      "source": [
        "def sum_of_squares(v:Vector) -> float:\n",
        "    '''\n",
        "    Return v_1 * v_1 + ... + v_n * v_n\n",
        "    '''\n",
        "    return dot(v, v)\n",
        "    assert sum_of_squares([1, 2, 3]) == 14"
      ],
      "metadata": {
        "id": "lj_xpwE7NGHt"
      },
      "execution_count": 9,
      "outputs": []
    },
    {
      "cell_type": "code",
      "source": [
        "import math\n",
        "\n",
        "def magnitude(v:Vector) -> float:\n",
        "    '''\n",
        "    Return the v's magnitude\n",
        "    '''\n",
        "    return math.sqrt(sum_of_squares(v))\n",
        "    assert magnitude([3, 4]) == 5"
      ],
      "metadata": {
        "id": "u9o4ziSSNapU"
      },
      "execution_count": 10,
      "outputs": []
    },
    {
      "cell_type": "code",
      "source": [
        "def distance(v:Vector, w:Vector) -> float:\n",
        "    return magnitude(subtract(v, w))"
      ],
      "metadata": {
        "id": "KAOKS9oINx51"
      },
      "execution_count": 11,
      "outputs": []
    }
  ]
}