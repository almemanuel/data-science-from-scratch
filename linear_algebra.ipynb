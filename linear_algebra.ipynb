{
  "nbformat": 4,
  "nbformat_minor": 0,
  "metadata": {
    "colab": {
      "name": "linear-algebra.ipynb",
      "provenance": [],
      "authorship_tag": "ABX9TyNHUi7N3cUrEUbBvCi667Qt",
      "include_colab_link": true
    },
    "kernelspec": {
      "name": "python3",
      "display_name": "Python 3"
    },
    "language_info": {
      "name": "python"
    }
  },
  "cells": [
    {
      "cell_type": "markdown",
      "metadata": {
        "id": "view-in-github",
        "colab_type": "text"
      },
      "source": [
        "<a href=\"https://colab.research.google.com/github/almemanuel/data-science-from-scratch/blob/main/linear_algebra.ipynb\" target=\"_parent\"><img src=\"https://colab.research.google.com/assets/colab-badge.svg\" alt=\"Open In Colab\"/></a>"
      ]
    },
    {
      "cell_type": "code",
      "execution_count": 1,
      "metadata": {
        "id": "kSomOLrQgpaS"
      },
      "outputs": [],
      "source": [
        "import matplotlib.pyplot as plt\n",
        "import pandas as pd\n",
        "import numpy as np"
      ]
    },
    {
      "cell_type": "markdown",
      "source": [
        "# Linear Algebra"
      ],
      "metadata": {
        "id": "Cyv-F1ICg42z"
      }
    },
    {
      "cell_type": "markdown",
      "source": [
        "Linear algebra it's the study of the vectorial spaces, fudamental to the field of Data Science"
      ],
      "metadata": {
        "id": "wZd0SDsJhO02"
      }
    },
    {
      "cell_type": "markdown",
      "source": [
        "## Vectors"
      ],
      "metadata": {
        "id": "peY3j6HZhpVx"
      }
    },
    {
      "cell_type": "markdown",
      "source": [
        "Vectors are objects that can be added or multiplied for scalars to make new vectors.\n",
        "\n",
        "Vectors are a great way of representing data"
      ],
      "metadata": {
        "id": "tflrjEEKh7cy"
      }
    },
    {
      "cell_type": "code",
      "source": [
        "from typing import List\n",
        "\n",
        "Vector = List[float]\n",
        "height_weight_age = [70, 170, 40] # inc, lb, year\n",
        "grades = [96, 80, 75, 62]"
      ],
      "metadata": {
        "id": "QPxhpBROizzj"
      },
      "execution_count": 2,
      "outputs": []
    },
    {
      "cell_type": "markdown",
      "source": [
        "$V = [a, b] \\\\ W = [c, d] \\\\ V + B = [a + c, b + d]$"
      ],
      "metadata": {
        "id": "CrVig0udjWrx"
      }
    },
    {
      "cell_type": "code",
      "source": [
        "def add(v: Vector, w: Vector) -> Vector:\n",
        "  '''\n",
        "  Add the corresponding elements\n",
        "  '''\n",
        "  assert len(v) == len(w) # vector must be the same lenght\n",
        "  return[v_i + w_i for v_i, w_i in zip(v, w)]\n",
        "  assert add([1, 2, 3], [4, 5, 6]) == [5, 7, 9]"
      ],
      "metadata": {
        "id": "cS94wHavkIDh"
      },
      "execution_count": 3,
      "outputs": []
    },
    {
      "cell_type": "code",
      "source": [
        "def subtract(v: Vector, w: Vector) -> Vector:\n",
        "  '''\n",
        "  Subtract the corresponding elements\n",
        "  '''\n",
        "  assert len(v) == len(w) # vector must be the same lenght\n",
        "  return[v_i - w_i for v_i, w_i in zip(v, w)]\n",
        "  assert add([5, 7, 9], [4, 5, 6]) == [1, 2, 3]"
      ],
      "metadata": {
        "id": "_cqoILnHk0QJ"
      },
      "execution_count": 4,
      "outputs": []
    },
    {
      "cell_type": "code",
      "source": [
        "def vector_sum(vectors: List[Vector]) -> Vector:\n",
        "  '''\n",
        "  sum of all corresponding elements\n",
        "  '''\n",
        "  assert vectors, 'no vectors provided!'\n",
        "  num_elements = len(vectors[0])\n",
        "  assert all(len(v) == num_elements for v in vectors), 'different sizes!'\n",
        "  return [sum(vector[i] for vector in vectors) for i in range(num_elements)]\n",
        "  assert vector_sum([[1, 2], [3, 4], [5, 6], [7, 8]]) == [16, 20]"
      ],
      "metadata": {
        "id": "uJee7M45lFhp"
      },
      "execution_count": 5,
      "outputs": []
    },
    {
      "cell_type": "code",
      "source": [
        "def scalar_multiply(c: float, v: Vector) -> Vector:\n",
        "  '''\n",
        "  Multiply eache element to c\n",
        "  '''"
      ],
      "metadata": {
        "id": "3AOHz2l8mPco"
      },
      "execution_count": null,
      "outputs": []
    }
  ]
}