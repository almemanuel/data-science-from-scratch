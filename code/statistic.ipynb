{
  "nbformat": 4,
  "nbformat_minor": 0,
  "metadata": {
    "colab": {
      "provenance": [],
      "authorship_tag": "ABX9TyOiX2/PRuecWaLzULMYMzBl",
      "include_colab_link": true
    },
    "kernelspec": {
      "name": "python3",
      "display_name": "Python 3"
    },
    "language_info": {
      "name": "python"
    }
  },
  "cells": [
    {
      "cell_type": "markdown",
      "metadata": {
        "id": "view-in-github",
        "colab_type": "text"
      },
      "source": [
        "<a href=\"https://colab.research.google.com/github/almemanuel/data-science-from-scratch/blob/main/code/statistic.ipynb\" target=\"_parent\"><img src=\"https://colab.research.google.com/assets/colab-badge.svg\" alt=\"Open In Colab\"/></a>"
      ]
    },
    {
      "cell_type": "code",
      "execution_count": 3,
      "metadata": {
        "id": "u-AfOixoWYe5"
      },
      "outputs": [],
      "source": [
        "num_friends = [100, 4, 41, 40, 25]"
      ]
    },
    {
      "cell_type": "code",
      "source": [
        "from collections import Counter\n",
        "import matplotlib.pyplot as plt"
      ],
      "metadata": {
        "id": "EXMgWEdiX9hA"
      },
      "execution_count": 4,
      "outputs": []
    },
    {
      "cell_type": "code",
      "source": [
        "friend_counts = Counter(num_friends)\n",
        "\n",
        "xs = range(101)\n",
        "ys = [friend_counts[x] for x in xs]\n",
        "\n",
        "plt.bar(xs, ys)\n",
        "\n",
        "plt.axis([0, 101, 0, 25])\n",
        "plt.title('Histogram of Friend Counts')\n",
        "plt.xlabel('# of friends')\n",
        "plt.ylabel('# of people')\n",
        "\n",
        "plt.show()"
      ],
      "metadata": {
        "colab": {
          "base_uri": "https://localhost:8080/",
          "height": 295
        },
        "id": "0liv2_JCYmLs",
        "outputId": "ae3d393f-ec37-416c-b9c7-2d8a37697e7c"
      },
      "execution_count": 5,
      "outputs": [
        {
          "output_type": "display_data",
          "data": {
            "text/plain": [
              "<Figure size 432x288 with 1 Axes>"
            ],
            "image/png": "[encoded data removed]"
          },
          "metadata": {
            "needs_background": "light"
          }
        }
      ]
    },
    {
      "cell_type": "code",
      "source": [
        "num_points =len(num_friends)\n",
        "num_points"
      ],
      "metadata": {
        "colab": {
          "base_uri": "https://localhost:8080/"
        },
        "id": "_ObOgKuBmRqg",
        "outputId": "5a6103b4-94fc-4453-f8fa-bebcebed7c04"
      },
      "execution_count": 6,
      "outputs": [
        {
          "output_type": "execute_result",
          "data": {
            "text/plain": [
              "5"
            ]
          },
          "metadata": {},
          "execution_count": 6
        }
      ]
    },
    {
      "cell_type": "code",
      "source": [
        "largest_value = max(num_friends)\n",
        "largest_value"
      ],
      "metadata": {
        "colab": {
          "base_uri": "https://localhost:8080/"
        },
        "id": "MFCjpDpumZa7",
        "outputId": "6c64ad3e-7c84-452b-b001-455925a5d493"
      },
      "execution_count": 7,
      "outputs": [
        {
          "output_type": "execute_result",
          "data": {
            "text/plain": [
              "100"
            ]
          },
          "metadata": {},
          "execution_count": 7
        }
      ]
    },
    {
      "cell_type": "code",
      "source": [
        "smallest_value = min(num_friends)\n",
        "smallest_value"
      ],
      "metadata": {
        "colab": {
          "base_uri": "https://localhost:8080/"
        },
        "id": "uRR7zqdamiHu",
        "outputId": "53cfc7e6-07df-485a-aef7-ba8d2e43dbe0"
      },
      "execution_count": 8,
      "outputs": [
        {
          "output_type": "execute_result",
          "data": {
            "text/plain": [
              "4"
            ]
          },
          "metadata": {},
          "execution_count": 8
        }
      ]
    },
    {
      "cell_type": "code",
      "source": [
        "sorted_values = sorted(num_friends)\n",
        "sorted_values"
      ],
      "metadata": {
        "colab": {
          "base_uri": "https://localhost:8080/"
        },
        "id": "ldne_Aa6nIls",
        "outputId": "d72d0703-8cf6-425c-8883-0d24dfbfc9ad"
      },
      "execution_count": 9,
      "outputs": [
        {
          "output_type": "execute_result",
          "data": {
            "text/plain": [
              "[4, 25, 40, 41, 100]"
            ]
          },
          "metadata": {},
          "execution_count": 9
        }
      ]
    },
    {
      "cell_type": "code",
      "source": [
        "smallest_value = sorted_values[0]\n",
        "smallest_value"
      ],
      "metadata": {
        "colab": {
          "base_uri": "https://localhost:8080/"
        },
        "id": "OZbhZNjMnOO0",
        "outputId": "c17093ef-8d3a-4eca-8ca3-1aefb4ca7227"
      },
      "execution_count": 10,
      "outputs": [
        {
          "output_type": "execute_result",
          "data": {
            "text/plain": [
              "4"
            ]
          },
          "metadata": {},
          "execution_count": 10
        }
      ]
    },
    {
      "cell_type": "markdown",
      "source": [
        "## Central Tendence"
      ],
      "metadata": {
        "id": "lWXQd_ErncWG"
      }
    },
    {
      "cell_type": "code",
      "source": [
        "from typing import List\n",
        "\n",
        "def mean(xs:List[float]) -> float:\n",
        "    return sum(xs) / len(xs)\n",
        "\n",
        "\n",
        "mean(num_friends)"
      ],
      "metadata": {
        "colab": {
          "base_uri": "https://localhost:8080/"
        },
        "id": "E0zaJ3LEnUFj",
        "outputId": "524c5458-267a-4589-bcd7-a7da0b0cd7b0"
      },
      "execution_count": 11,
      "outputs": [
        {
          "output_type": "execute_result",
          "data": {
            "text/plain": [
              "42.0"
            ]
          },
          "metadata": {},
          "execution_count": 11
        }
      ]
    },
    {
      "cell_type": "code",
      "source": [
        "def _median_odd(xs:List[float]) -> float:\n",
        "    return sorted(xs)[len(xs) // 2]\n",
        "\n",
        "\n",
        "def _median_even(xs:List[float]) -> float:\n",
        "    sorted_xs = sorted(xs)\n",
        "    hi_midpoint = len(xs) // 2\n",
        "    return (sorted_xs[hi_midpoint - 1] + sorted_xs[hi_midpoint]) / 2\n",
        "\n",
        "\n",
        "def median(v:List[float]) -> float:\n",
        "    return _median_even(v) if len(v) % 2 == 0 else _median_odd(v)\n",
        "\n",
        "\n",
        "assert median([1, 10, 2, 9, 5]) == 5\n",
        "assert median([1, 9, 2, 10]) == (2 + 9) / 2"
      ],
      "metadata": {
        "id": "13CHdbInpfQH"
      },
      "execution_count": 12,
      "outputs": []
    },
    {
      "cell_type": "code",
      "source": [
        "median(num_friends)"
      ],
      "metadata": {
        "colab": {
          "base_uri": "https://localhost:8080/"
        },
        "id": "8Oom5RL0qZrV",
        "outputId": "3c46b1a3-d827-473f-e3a8-dfe4a776468f"
      },
      "execution_count": 13,
      "outputs": [
        {
          "output_type": "execute_result",
          "data": {
            "text/plain": [
              "40"
            ]
          },
          "metadata": {},
          "execution_count": 13
        }
      ]
    },
    {
      "cell_type": "code",
      "source": [
        "def quantile(xs:List[float], p:float) -> float:\n",
        "    p_index = int(p * len(xs))\n",
        "    return sorted(xs)[p_index]"
      ],
      "metadata": {
        "id": "tbDKxPJBrI3e"
      },
      "execution_count": 14,
      "outputs": []
    },
    {
      "cell_type": "code",
      "source": [
        "def mode(x:List[float]) -> List[float]:\n",
        "    counts = Counter(x)\n",
        "    max_count = max(counts.values())\n",
        "    return [x_i for x_i, count in counts.items() if count == max_count]"
      ],
      "metadata": {
        "id": "oKWIz3_rrle0"
      },
      "execution_count": 15,
      "outputs": []
    },
    {
      "cell_type": "markdown",
      "source": [
        "## Dispersion"
      ],
      "metadata": {
        "id": "Xv0hByjBsTpf"
      }
    },
    {
      "cell_type": "code",
      "source": [
        "def data_range(xs:List[float]) -> float:\n",
        "    return max(xs) - min(xs)"
      ],
      "metadata": {
        "id": "ZF-VFSOasWzj"
      },
      "execution_count": 16,
      "outputs": []
    },
    {
      "cell_type": "code",
      "source": [
        "from typing import List\n",
        "Vector = List[float]\n",
        "\n",
        "def dot(v:Vector, w:Vector) -> float:\n",
        "    '''\n",
        "    Calc v_1 * w_1 + ... + v_n * w_n\n",
        "    '''\n",
        "    assert len(v) == len(w), 'vector must be same length'\n",
        "    return sum(v_i * w_i for v_i, w_i in zip(v, w))\n",
        "\n",
        "\n",
        "def sum_of_squares(v:Vector) -> float:\n",
        "    '''\n",
        "    Return v_1 * v_1 + ... + v_n * v_n\n",
        "    '''\n",
        "    return dot(v, v)"
      ],
      "metadata": {
        "id": "mjR7LB4Qt7dl"
      },
      "execution_count": 17,
      "outputs": []
    },
    {
      "cell_type": "code",
      "source": [
        "import math\n",
        "\n",
        "def de_mean(xs:List[float]) -> List[float]:\n",
        "    x_bar = mean(xs)\n",
        "    return [x - x_bar for x in xs]\n",
        "\n",
        "\n",
        "def variance(xs:List[float]) -> float:\n",
        "    assert len(xs) >= 2, 'variance requires at least two elements'\n",
        "    n = len(xs)\n",
        "    deviations = de_mean(xs)\n",
        "    return sum_of_squares(deviations) / n - 1\n",
        "\n",
        "\n",
        "def standard_deviation(xs:List[float]) -> float:\n",
        "    return math.sqrt(variance(xs))"
      ],
      "metadata": {
        "id": "1CmQrDGbskKm"
      },
      "execution_count": 18,
      "outputs": []
    },
    {
      "cell_type": "code",
      "source": [
        "def interquartile_range(xs:List[float]) -> float:\n",
        "    return quantile(xs, .75) - quantile(xs, .25)"
      ],
      "metadata": {
        "id": "GvjhxMdgu-vO"
      },
      "execution_count": 19,
      "outputs": []
    },
    {
      "cell_type": "markdown",
      "source": [
        "## Correlation"
      ],
      "metadata": {
        "id": "jZAeAsuTvU1r"
      }
    },
    {
      "cell_type": "code",
      "source": [
        "def covariance(xs:List[float], ys:List[float]) -> float:\n",
        "    assert len(xs) == len(ys), 'xs and ys must have same number of elements'\n",
        "    return dot(de_mean(xs), de_mean(ys)) / (len(xs) - 1)"
      ],
      "metadata": {
        "id": "mP2yYrpkzKcr"
      },
      "execution_count": 21,
      "outputs": []
    },
    {
      "cell_type": "code",
      "source": [
        "def correlation(xs:List[float], ys:List[float]) -> float:\n",
        "    stdev_x = standard_deviation(xs)\n",
        "    stdev_y = standard_deviation(ys)\n",
        "    if stdev_x > 0 and stdev_y > 0:\n",
        "        return covariance(xs, ys) / stdev_x / stdev_y\n",
        "    return 0"
      ],
      "metadata": {
        "id": "0UZhqm9M0bTb"
      },
      "execution_count": 22,
      "outputs": []
    },
    {
      "cell_type": "markdown",
      "source": [
        "Correlation = -1 -> perfect anticorrelation\n",
        "Correlation = 1 -> perfect correlation"
      ],
      "metadata": {
        "id": "ey3ufz050_oi"
      }
    },
    {
      "cell_type": "markdown",
      "source": [
        "### Simpson's Paradox\n",
        "\n",
        "Simpson's paradox is a phenomenon in probability and statistics in which a trend appears in several groups of data but disappears or reverses when the groups are combined. This result is often encountered in social-science and medical-science statistics, and is particularly problematic when frequency data are unduly given causal interpretations. The paradox can be resolved when confounding variables and causal relations are appropriately addressed in the statistical modeling. Simpson's paradox has been used to illustrate the kind of misleading results that the misuse of statistics can generate."
      ],
      "metadata": {
        "id": "q7Jir8XD2OZI"
      }
    },
    {
      "cell_type": "markdown",
      "source": [
        "### Others Alerts"
      ],
      "metadata": {
        "id": "2Ur3utLs2mpP"
      }
    },
    {
      "cell_type": "markdown",
      "source": [
        "- A zero correlation denotes that has no linear correlation between two variables, but maybe have is other correlations\n",
        "- Correlations can be causal"
      ],
      "metadata": {
        "id": "u-fyMxnT2rFf"
      }
    }
  ]
}