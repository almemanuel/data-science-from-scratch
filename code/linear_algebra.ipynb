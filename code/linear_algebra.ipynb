{
  "nbformat": 4,
  "nbformat_minor": 0,
  "metadata": {
    "colab": {
      "name": "linear-algebra.ipynb",
      "provenance": [],
      "include_colab_link": true
    },
    "kernelspec": {
      "name": "python3",
      "display_name": "Python 3"
    },
    "language_info": {
      "name": "python"
    }
  },
  "cells": [
    {
      "cell_type": "markdown",
      "metadata": {
        "id": "view-in-github",
        "colab_type": "text"
      },
      "source": [
        "<a href=\"https://colab.research.google.com/github/almemanuel/data-science-from-scratch/blob/main/linear_algebra.ipynb\" target=\"_parent\"><img src=\"https://colab.research.google.com/assets/colab-badge.svg\" alt=\"Open In Colab\"/></a>"
      ]
    },
    {
      "cell_type": "code",
      "execution_count": 1,
      "metadata": {
        "id": "kSomOLrQgpaS"
      },
      "outputs": [],
      "source": [
        "import matplotlib.pyplot as plt\n",
        "import pandas as pd\n",
        "import numpy as np"
      ]
    },
    {
      "cell_type": "markdown",
      "source": [
        "# Linear Algebra"
      ],
      "metadata": {
        "id": "Cyv-F1ICg42z"
      }
    },
    {
      "cell_type": "markdown",
      "source": [
        "Linear algebra it's the study of the vectorial spaces, fudamental to the field of Data Science"
      ],
      "metadata": {
        "id": "wZd0SDsJhO02"
      }
    },
    {
      "cell_type": "markdown",
      "source": [
        "## Vectors"
      ],
      "metadata": {
        "id": "peY3j6HZhpVx"
      }
    },
    {
      "cell_type": "markdown",
      "source": [
        "Vectors are objects that can be added or multiplied for scalars to make new vectors.\n",
        "\n",
        "Vectors are a great way of representing data"
      ],
      "metadata": {
        "id": "tflrjEEKh7cy"
      }
    },
    {
      "cell_type": "code",
      "source": [
        "from typing import List\n",
        "\n",
        "Vector = List[float]\n",
        "height_weight_age = [70, 170, 40] # inc, lb, year\n",
        "grades = [96, 80, 75, 62]"
      ],
      "metadata": {
        "id": "QPxhpBROizzj"
      },
      "execution_count": 2,
      "outputs": []
    },
    {
      "cell_type": "code",
      "source": [
        "def add(v: Vector, w: Vector) -> Vector:\n",
        "  '''\n",
        "  Add the corresponding elements\n",
        "  '''\n",
        "  assert len(v) == len(w) # vector must be the same lenght\n",
        "  return[v_i + w_i for v_i, w_i in zip(v, w)]\n",
        "\n",
        "\n",
        "assert add([1, 2, 3], [4, 5, 6]) == [5, 7, 9]"
      ],
      "metadata": {
        "id": "cS94wHavkIDh"
      },
      "execution_count": 3,
      "outputs": []
    },
    {
      "cell_type": "code",
      "source": [
        "def subtract(v: Vector, w: Vector) -> Vector:\n",
        "  '''\n",
        "  Subtract the corresponding elements\n",
        "  '''\n",
        "  assert len(v) == len(w) # vector must be the same lenght\n",
        "  return[v_i - w_i for v_i, w_i in zip(v, w)]\n",
        "\n",
        "\n",
        "assert add([5, 7, 9], [4, 5, 6]) == [1, 2, 3]"
      ],
      "metadata": {
        "id": "_cqoILnHk0QJ"
      },
      "execution_count": 4,
      "outputs": []
    },
    {
      "cell_type": "code",
      "source": [
        "def vector_sum(vectors: List[Vector]) -> Vector:\n",
        "  '''\n",
        "  sum of all corresponding elements\n",
        "  '''\n",
        "  assert vectors, 'no vectors provided!'\n",
        "  num_elements = len(vectors[0])\n",
        "  assert all(len(v) == num_elements for v in vectors), 'different sizes!'\n",
        "  return [sum(vector[i] for vector in vectors) for i in range(num_elements)]\n",
        "\n",
        "\n",
        "assert vector_sum([[1, 2], [3, 4], [5, 6], [7, 8]]) == [16, 20]"
      ],
      "metadata": {
        "id": "uJee7M45lFhp"
      },
      "execution_count": 5,
      "outputs": []
    },
    {
      "cell_type": "code",
      "source": [
        "def scalar_multiply(c: float, v: Vector) -> Vector:\n",
        "  '''\n",
        "  Multiply each element to c\n",
        "  '''\n",
        "  return [c * v_i for v_i in v]\n",
        "\n",
        "\n",
        "assert scalar_multiply(2, [1, 2, 3]) == [2, 4, 6]"
      ],
      "metadata": {
        "id": "3AOHz2l8mPco"
      },
      "execution_count": 6,
      "outputs": []
    },
    {
      "cell_type": "code",
      "source": [
        "def vector_mean(vectors: List[Vector]) -> Vector:\n",
        "    '''\n",
        "    Get the elements mean\n",
        "    '''\n",
        "    n = len(vectors)\n",
        "    return scalar_multiply(1 / n, vector_sum(vectors))\n",
        "\n",
        "\n",
        "assert vector_mean([[1, 2], [3, 4], [5, 6]]) == [3, 4]"
      ],
      "metadata": {
        "id": "yiIWo9BFLvte"
      },
      "execution_count": 7,
      "outputs": []
    },
    {
      "cell_type": "code",
      "source": [
        "def dot(v:Vector, w:Vector) -> float:\n",
        "    '''\n",
        "    Calc v_1 * w_1 + ... + v_n * w_n\n",
        "    '''\n",
        "    assert len(v) == len(w), 'vector must be same length'\n",
        "    return sum(v_i * w_i for v_i, w_i in zip(v, w))\n",
        "\n",
        "\n",
        "assert dot([1, 2, 3], [4, 5, 6]) == 32"
      ],
      "metadata": {
        "id": "0iKqqN2UMSpq"
      },
      "execution_count": 8,
      "outputs": []
    },
    {
      "cell_type": "code",
      "source": [
        "def sum_of_squares(v:Vector) -> float:\n",
        "    '''\n",
        "    Return v_1 * v_1 + ... + v_n * v_n\n",
        "    '''\n",
        "    return dot(v, v)\n",
        "\n",
        "\n",
        "assert sum_of_squares([1, 2, 3]) == 14"
      ],
      "metadata": {
        "id": "lj_xpwE7NGHt"
      },
      "execution_count": 9,
      "outputs": []
    },
    {
      "cell_type": "code",
      "source": [
        "import math\n",
        "\n",
        "def magnitude(v:Vector) -> float:\n",
        "    '''\n",
        "    Return the v's magnitude\n",
        "    '''\n",
        "    return math.sqrt(sum_of_squares(v))\n",
        "\n",
        "\n",
        "assert magnitude([3, 4]) == 5"
      ],
      "metadata": {
        "id": "u9o4ziSSNapU"
      },
      "execution_count": 10,
      "outputs": []
    },
    {
      "cell_type": "code",
      "source": [
        "def distance(v:Vector, w:Vector) -> float:\n",
        "    return magnitude(subtract(v, w))"
      ],
      "metadata": {
        "id": "KAOKS9oINx51"
      },
      "execution_count": 11,
      "outputs": []
    },
    {
      "cell_type": "markdown",
      "source": [
        "## Matrix"
      ],
      "metadata": {
        "id": "lGO2Ujk3OrLo"
      }
    },
    {
      "cell_type": "code",
      "source": [
        "Matrix = List[List[float]]"
      ],
      "metadata": {
        "id": "3szQjmMXO04D"
      },
      "execution_count": 12,
      "outputs": []
    },
    {
      "cell_type": "code",
      "source": [
        "A = [[1, 2, 3],\n",
        "     [4, 5, 6]]\n",
        "\n",
        "B = [[1, 2],\n",
        "     [3, 4],\n",
        "     [5, 6]]\n",
        "\n",
        "print(A)\n",
        "print(B)"
      ],
      "metadata": {
        "id": "ldC0AyyZO6uQ",
        "outputId": "e11783d0-3022-4eac-f065-b1a2cdce0e4f",
        "colab": {
          "base_uri": "https://localhost:8080/"
        }
      },
      "execution_count": 13,
      "outputs": [
        {
          "output_type": "stream",
          "name": "stdout",
          "text": [
            "[[1, 2, 3], [4, 5, 6]]\n",
            "[[1, 2], [3, 4], [5, 6]]\n"
          ]
        }
      ]
    },
    {
      "cell_type": "code",
      "source": [
        "from typing import Tuple"
      ],
      "metadata": {
        "id": "0vNNspy4PYOY"
      },
      "execution_count": 14,
      "outputs": []
    },
    {
      "cell_type": "code",
      "source": [
        "def shape(A:Matrix) -> Tuple[int, int]:\n",
        "    \"\"\"\n",
        "    Return total rows and columns from A\n",
        "    \"\"\"\n",
        "    num_rows = len(A)\n",
        "    num_cols = len(A[0]) if A else 0\n",
        "    return num_rows, num_cols\n",
        "\n",
        "\n",
        "assert shape([[1, 2, 3], [4, 5, 6]]) == (2, 3)"
      ],
      "metadata": {
        "id": "oczpcppDPbmO"
      },
      "execution_count": 15,
      "outputs": []
    },
    {
      "cell_type": "code",
      "source": [
        "def get_row(A:Matrix, i:int) -> Vector:\n",
        "    \"\"\"\n",
        "    Return the line i from A as a vector\n",
        "    \"\"\"\n",
        "    return A[i]"
      ],
      "metadata": {
        "id": "fk4VdfdPQWbo"
      },
      "execution_count": 16,
      "outputs": []
    },
    {
      "cell_type": "code",
      "source": [
        "def get_column(A:Matrix, j:int) -> Vector:\n",
        "    \"\"\"\n",
        "    Return the column j from A as a vector\n",
        "    \"\"\"\n",
        "    return [A_i[j] for A_i in A]"
      ],
      "metadata": {
        "id": "-6ZVzUrBQre-"
      },
      "execution_count": 17,
      "outputs": []
    },
    {
      "cell_type": "code",
      "source": [
        "from typing import Callable"
      ],
      "metadata": {
        "id": "L7259zBbRGwA"
      },
      "execution_count": 18,
      "outputs": []
    },
    {
      "cell_type": "code",
      "source": [
        "def make_matrix(num_rows:int, num_cols:int, entry_fn:Callable[[int, int], float]) -> Matrix:\n",
        "    \"\"\"\n",
        "    Return a matrix num_rows x num_cols with the entry entry_fn\n",
        "    \"\"\"\n",
        "    return [[entry_fn(i, j) for j in range(num_cols)] for i in range(num_rows)]"
      ],
      "metadata": {
        "id": "vvz9pMYzRQY_"
      },
      "execution_count": 19,
      "outputs": []
    },
    {
      "cell_type": "code",
      "source": [
        "def identity_matrix(n:int) -> Matrix:\n",
        "    \"\"\"\n",
        "    Return an identity matrix n x n\n",
        "    \"\"\"\n",
        "    return make_matrix(n, n, lambda i, j: 1 if i == j else 0)\n",
        "\n",
        "\n",
        "assert identity_matrix(5) == [[1, 0, 0, 0, 0],\n",
        "                              [0, 1, 0, 0, 0],\n",
        "                              [0, 0, 1, 0, 0],\n",
        "                              [0, 0, 0, 1, 0],\n",
        "                              [0, 0, 0, 0, 1],]"
      ],
      "metadata": {
        "id": "Wv0v8ZqySLH8"
      },
      "execution_count": 20,
      "outputs": []
    },
    {
      "cell_type": "markdown",
      "source": [
        "### Binary relation with Matrix\n",
        "0 - the users aren't friends\n",
        "\n",
        "1 - the users are friends"
      ],
      "metadata": {
        "id": "akQrNS1fTa_f"
      }
    },
    {
      "cell_type": "code",
      "source": [
        "#           user 0   1  2  3  4  5  6  7  8  9\n",
        "friend_matrix = [[0, 1, 1, 0, 0, 0, 0, 0, 0, 0],# user 0\n",
        "                [1, 0, 1, 1, 0, 0, 0, 0, 0, 0], # user 1\n",
        "                [1, 1, 0, 1, 0, 0, 0, 0, 0, 0], # user 2\n",
        "                [0, 1, 1, 0, 1, 0, 0, 0, 0, 0], # user 3\n",
        "                [0, 0, 0, 1, 0, 1, 0, 0, 0, 0], # user 4\n",
        "                [0, 0, 0, 0, 1, 0, 1, 1, 0, 0], # user 5\n",
        "                [0, 0, 0, 0, 0, 1, 0, 0, 1, 0], # user 6\n",
        "                [0, 0, 0, 0, 0, 1, 0, 0, 1, 0], # user 7\n",
        "                [0, 0, 0, 0, 0, 0, 1, 1, 0, 1], # user 8\n",
        "                [0, 0, 0, 0, 0, 0, 0, 0, 1, 0]] # user 9\n",
        "\n",
        "friend_matrix"
      ],
      "metadata": {
        "id": "v6Z_Q3SSS9fe",
        "outputId": "f85a8a8d-6232-4cbb-edf8-f33a7b0c0cbe",
        "colab": {
          "base_uri": "https://localhost:8080/"
        }
      },
      "execution_count": 21,
      "outputs": [
        {
          "output_type": "execute_result",
          "data": {
            "text/plain": [
              "[[0, 1, 1, 0, 0, 0, 0, 0, 0, 0],\n",
              " [1, 0, 1, 1, 0, 0, 0, 0, 0, 0],\n",
              " [1, 1, 0, 1, 0, 0, 0, 0, 0, 0],\n",
              " [0, 1, 1, 0, 1, 0, 0, 0, 0, 0],\n",
              " [0, 0, 0, 1, 0, 1, 0, 0, 0, 0],\n",
              " [0, 0, 0, 0, 1, 0, 1, 1, 0, 0],\n",
              " [0, 0, 0, 0, 0, 1, 0, 0, 1, 0],\n",
              " [0, 0, 0, 0, 0, 1, 0, 0, 1, 0],\n",
              " [0, 0, 0, 0, 0, 0, 1, 1, 0, 1],\n",
              " [0, 0, 0, 0, 0, 0, 0, 0, 1, 0]]"
            ]
          },
          "metadata": {},
          "execution_count": 21
        }
      ]
    },
    {
      "cell_type": "code",
      "source": [
        "assert friend_matrix[0][2] == 1, '0 and 2 are friends'\n",
        "assert friend_matrix[0][8] == 0, '0 and 8 are not friends'"
      ],
      "metadata": {
        "id": "ViE9cyL9Tp-r"
      },
      "execution_count": 23,
      "outputs": []
    },
    {
      "cell_type": "code",
      "source": [
        "friends_of_five = [i for i, is_friend in enumerate(friend_matrix[5]) if is_friend]\n",
        "\n",
        "friends_of_five"
      ],
      "metadata": {
        "id": "Qaag4-5mT449",
        "outputId": "0a18ef50-c676-4a5b-f3b3-eadffaec9c51",
        "colab": {
          "base_uri": "https://localhost:8080/"
        }
      },
      "execution_count": 25,
      "outputs": [
        {
          "output_type": "execute_result",
          "data": {
            "text/plain": [
              "[4, 6, 7]"
            ]
          },
          "metadata": {},
          "execution_count": 25
        }
      ]
    }
  ]
}
