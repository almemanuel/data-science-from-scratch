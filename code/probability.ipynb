{
  "nbformat": 4,
  "nbformat_minor": 0,
  "metadata": {
    "colab": {
      "provenance": [],
      "authorship_tag": "ABX9TyNd25YjLxB9zGvJhSHKfkCr",
      "include_colab_link": true
    },
    "kernelspec": {
      "name": "python3",
      "display_name": "Python 3"
    },
    "language_info": {
      "name": "python"
    }
  },
  "cells": [
    {
      "cell_type": "markdown",
      "metadata": {
        "id": "view-in-github",
        "colab_type": "text"
      },
      "source": [
        "<a href=\"https://colab.research.google.com/github/almemanuel/data-science-from-scratch/blob/main/code/probability.ipynb\" target=\"_parent\"><img src=\"https://colab.research.google.com/assets/colab-badge.svg\" alt=\"Open In Colab\"/></a>"
      ]
    },
    {
      "cell_type": "markdown",
      "source": [
        "## Dependency and Independency"
      ],
      "metadata": {
        "id": "ziw58E8SVIXH"
      }
    },
    {
      "cell_type": "markdown",
      "source": [
        "- Two events are dependents when the first event has information about the second and vice-versa\n",
        "- The probability between two dependents events are the product of their occurrence probability\n",
        "\n",
        "$P(E,F)= P(E)P(F)$"
      ],
      "metadata": {
        "id": "HZms_cNGVQQk"
      }
    },
    {
      "cell_type": "markdown",
      "source": [
        "## Conditional Probability"
      ],
      "metadata": {
        "id": "mX72_4X9WWHt"
      }
    },
    {
      "cell_type": "markdown",
      "source": [
        "Between two events, where $P \\neq 0$, the event probability conditioned for another is $P(E|F)=\\frac{P(E,F)}{P(F)}=P(E,F)=P(E|F)P(F)$\n",
        "\n",
        "If the events are independents, $P(E|F) = P(E)$"
      ],
      "metadata": {
        "id": "PHszYaJvWblE"
      }
    },
    {
      "cell_type": "markdown",
      "source": [
        "### Example"
      ],
      "metadata": {
        "id": "0KDqqR6BXaHh"
      }
    },
    {
      "cell_type": "markdown",
      "source": [
        "Context:\n",
        "- A family with two child. \n",
        "Hypothesis:\n",
        "- $P(BOY)=P(GIRL)$\n",
        "- The gender of the second child is independent from the first child gender\n",
        "\n",
        "So:\n",
        "- The event 'no one girl' has $P = \\frac{1}{4}$\n",
        "- 'a girld and a boy', $P = \\frac{1}{2}$\n",
        "- 'only girls', $P = \\frac{1}{4}$\n",
        "\n",
        "Question:\n",
        "- Whats the probability of the event 'only girls' (B) conditioned to event 'the older child is a girl' (G)?\n",
        "\n",
        "Answer:\n",
        "$P(B|G) = \\frac{P(B,G)}{P(G)} = \\frac{P(B)}{P(G)} = \\frac{1}{2}$\n",
        "\n",
        "- If the two childs are girls, the older child is a girl too"
      ],
      "metadata": {
        "id": "lSfB9OxBXc0J"
      }
    },
    {
      "cell_type": "code",
      "execution_count": 1,
      "metadata": {
        "id": "MTzuX7txVBnd"
      },
      "outputs": [],
      "source": [
        "import enum, random"
      ]
    },
    {
      "cell_type": "code",
      "source": [
        "class Kid(enum.Enum):\n",
        "    BOY = 0\n",
        "    GIRL = 1\n",
        "\n",
        "\n",
        "def random_kid() -> Kid:\n",
        "    return random.choice([Kid.BOY, Kid.GIRL])"
      ],
      "metadata": {
        "id": "CYOCorVVZk7A"
      },
      "execution_count": 6,
      "outputs": []
    },
    {
      "cell_type": "code",
      "source": [
        "both_girls = 0\n",
        "older_girl = 0\n",
        "either_girl = 0\n",
        "random.seed(0)\n",
        "\n",
        "for _ in range(10000):\n",
        "    younger = random_kid()\n",
        "    older = random_kid()\n",
        "    if older == Kid.GIRL:\n",
        "        older_girl += 1\n",
        "    if older == Kid.GIRL and younger == Kid.GIRL:\n",
        "        both_girls += 1\n",
        "    if older == Kid.GIRL or younger == Kid.GIRL:\n",
        "        either_girl += 1\n",
        "\n",
        "print(f'P(both|older)={both_girls/older_girl}')\n",
        "print(f'P(both|either)={both_girls/either_girl}')"
      ],
      "metadata": {
        "colab": {
          "base_uri": "https://localhost:8080/"
        },
        "id": "3vBllWOaZ5Lz",
        "outputId": "fa130aef-cdff-4b32-933a-1e39a8164e08"
      },
      "execution_count": 8,
      "outputs": [
        {
          "output_type": "stream",
          "name": "stdout",
          "text": [
            "P(both|older)=0.5007089325501317\n",
            "P(both|either)=0.3311897106109325\n"
          ]
        }
      ]
    },
    {
      "cell_type": "markdown",
      "source": [
        "## Bayes' Theorem"
      ],
      "metadata": {
        "id": "xflB2rRRbXb4"
      }
    },
    {
      "cell_type": "markdown",
      "source": [
        "- help to 'revert' conditional probabilities \n",
        "- util when exists a conditional event between two events but only one probability know\n",
        "\n",
        "$P(E|F)=\\frac{P(E,F)}{P(E)}=\\frac{P(F|E)P(E)}{P(F)}$\n",
        "\n",
        "$P(F)=P(F,E)+P(F, \\neg{E})$\n",
        "\n",
        "$P(E|F)=\\frac{P(F|E)P(E)}{P(F|E)P(E)+P(F|\\neg{E})P(\\neg{E})}$"
      ],
      "metadata": {
        "id": "_JL1lAVnbgej"
      }
    },
    {
      "cell_type": "markdown",
      "source": [
        "## Distribution"
      ],
      "metadata": {
        "id": "Q175psCKeD4H"
      }
    },
    {
      "cell_type": "code",
      "source": [
        "def uniform_pdf(x:float) -> float:\n",
        "    return 1 if 0 <= x < 1 else 0\n",
        "    "
      ],
      "metadata": {
        "id": "FhgZFMc0eFe7"
      },
      "execution_count": 9,
      "outputs": []
    },
    {
      "cell_type": "code",
      "source": [
        "def uniform_cdf(x:float) -> float:\n",
        "    if x < 0:\n",
        "        return 0\n",
        "    return 1"
      ],
      "metadata": {
        "id": "ZsHmk-_seY79"
      },
      "execution_count": 10,
      "outputs": []
    },
    {
      "cell_type": "markdown",
      "source": [
        "### Normal Distribution"
      ],
      "metadata": {
        "id": "FqPdhVzpenvj"
      }
    },
    {
      "cell_type": "markdown",
      "source": [
        "$f(x|\\mu, \\sigma)= {(\\frac{1}{\\sqrt{2\\pi\\sigma}})}^{-\\frac{{(x-\\mu)}^{2}}{2\\sigma^2}}$"
      ],
      "metadata": {
        "id": "VtTAnWEhesqd"
      }
    },
    {
      "cell_type": "code",
      "source": [
        "import math\n",
        "\n",
        "SQRT_TWO_PI = math.sqrt(2 * math.pi)\n",
        "\n",
        "def normal_pdf(x:float, mu:float = 0, sigma:float = 1) -> float:\n",
        "    return (math.exp( - (x - mu) ** 2 / 2 / sigma ** 2) / (SQRT_TWO_PI * sigma))"
      ],
      "metadata": {
        "id": "-rQP18GJgE51"
      },
      "execution_count": 12,
      "outputs": []
    },
    {
      "cell_type": "code",
      "source": [
        "import matplotlib.pyplot as plt\n",
        "\n",
        "xs = [x / 10.0 for x in range(-50, 50)]\n",
        "\n",
        "plt.plot(xs, [normal_pdf(x, sigma = 1) for x in xs], '-', label = 'mu=0, sigma=1')\n",
        "plt.plot(xs, [normal_pdf(x, sigma = 2) for x in xs], '--', label = 'mu=0, sigma=2')\n",
        "plt.plot(xs, [normal_pdf(x, sigma = .5) for x in xs], ':', label = 'mu=0, sigma=0.5')\n",
        "plt.plot(xs, [normal_pdf(x, mu = -1) for x in xs], '-', label = 'mu=-1, sigma=1')\n",
        "\n",
        "plt.legend()\n",
        "\n",
        "plt.title('Various Normal PDFs')\n",
        "\n",
        "plt.show()"
      ],
      "metadata": {
        "colab": {
          "base_uri": "https://localhost:8080/",
          "height": 281
        },
        "id": "PN-ph5AogfeI",
        "outputId": "cb657474-4a46-420e-c0d7-4dc4a602f432"
      },
      "execution_count": 13,
      "outputs": [
        {
          "output_type": "display_data",
          "data": {
            "text/plain": [
              "<Figure size 432x288 with 1 Axes>"
            ],
            "image/png": "[encoded data removed]"
          },
          "metadata": {
            "needs_background": "light"
          }
        }
      ]
    },
    {
      "cell_type": "code",
      "source": [
        "def normal_cdf(x:float, mu:float = 0, sigma:float = 1) -> float:\n",
        "    return (1 + math.erf((x - mu) / math.sqrt(2) / sigma)) / 2"
      ],
      "metadata": {
        "id": "A-SLNtSmhi0r"
      },
      "execution_count": 15,
      "outputs": []
    },
    {
      "cell_type": "code",
      "source": [
        "xs = [x / 10.0 for x in range(-50, 50)]\n",
        "plt.plot(xs,[normal_cdf(x,sigma=1) for x in xs],'-',label='mu=0,sigma=1')\n",
        "\n",
        "plt.plot(xs,[normal_cdf(x,sigma=2) for x in xs],'--',label='mu=0,sigma=2')\n",
        "plt.plot(xs,[normal_cdf(x,sigma=0.5) for x in xs],':',label='mu=0,sigma=0.5')\n",
        "plt.plot(xs,[normal_cdf(x,mu=-1) for x in xs],'-.',label='mu=-1,sigma=1')\n",
        "plt.legend(loc=4)\n",
        "\n",
        "plt.title('Various Normal cdfs')\n",
        "\n",
        "plt.show()"
      ],
      "metadata": {
        "colab": {
          "base_uri": "https://localhost:8080/",
          "height": 281
        },
        "id": "wLfiwLQphqut",
        "outputId": "ab44f8be-6956-4179-ca2f-6e867e44fa5a"
      },
      "execution_count": 16,
      "outputs": [
        {
          "output_type": "display_data",
          "data": {
            "text/plain": [
              "<Figure size 432x288 with 1 Axes>"
            ],
            "image/png": "[encoded data removed]"
          },
          "metadata": {
            "needs_background": "light"
          }
        }
      ]
    },
    {
      "cell_type": "code",
      "source": [
        "def inverse_normal_cdf(p:float, mu:float = 0, sigma:float = 1, tolerance:float = 0.00001) -> float:\n",
        "    if mu != 0 or sigma != 1:\n",
        "        return mu + sigma * inverse_normal_cdf(p, tolerance=tolerance)\n",
        "\n",
        "    low_z = -10.0\n",
        "    hi_z = 10.0\n",
        "\n",
        "    while hi_z - low_z > tolerance:\n",
        "        mid_z = (low_z + hi_z) / 2\n",
        "        mid_p = normal_cdf(mid_z)\n",
        "\n",
        "        if mid_p < p:\n",
        "            low_z = mid_z\n",
        "        else:\n",
        "            hi_z = mid_z\n",
        "\n",
        "    return mid_z"
      ],
      "metadata": {
        "id": "ArHe5PZSh9cV"
      },
      "execution_count": 17,
      "outputs": []
    }
  ]
}